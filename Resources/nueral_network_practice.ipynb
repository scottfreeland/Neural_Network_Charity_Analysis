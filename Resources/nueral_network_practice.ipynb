{
 "cells": [
  {
   "cell_type": "code",
   "execution_count": 1,
   "id": "5af8e27f",
   "metadata": {},
   "outputs": [],
   "source": [
    "# Import our dependencies\n",
    "import pandas as pd\n",
    "import matplotlib as plt\n",
    "from sklearn.datasets import make_blobs\n",
    "import sklearn as skl\n",
    "import tensorflow as tf"
   ]
  },
  {
   "cell_type": "code",
   "execution_count": 2,
   "id": "b84eae46",
   "metadata": {},
   "outputs": [
    {
     "data": {
      "text/plain": [
       "<AxesSubplot:xlabel='Feature 1', ylabel='Feature 2'>"
      ]
     },
     "execution_count": 2,
     "metadata": {},
     "output_type": "execute_result"
    },
    {
     "data": {
      "image/png": "[encoded data removed]",
      "text/plain": [
       "<Figure size 432x288 with 2 Axes>"
      ]
     },
     "metadata": {
      "needs_background": "light"
     },
     "output_type": "display_data"
    }
   ],
   "source": [
    "# Generate dummy dataset\n",
    "X, y = make_blobs(n_samples=1000, centers=2, n_features=2, random_state=78)\n",
    "\n",
    "# Creating a DataFrame with the dummy data\n",
    "df = pd.DataFrame(X, columns=[\"Feature 1\", \"Feature 2\"])\n",
    "df[\"Target\"] = y\n",
    "\n",
    "# Plotting the dummy data\n",
    "df.plot.scatter(x=\"Feature 1\", y=\"Feature 2\", c=\"Target\", colormap=\"winter\")"
   ]
  },
  {
   "cell_type": "code",
   "execution_count": 3,
   "id": "73b50afd",
   "metadata": {},
   "outputs": [],
   "source": [
    "# Use sklearn to split dataset\n",
    "from sklearn.model_selection import train_test_split\n",
    "X_train, X_test, y_train, y_test = train_test_split(X, y, random_state=78)"
   ]
  },
  {
   "cell_type": "code",
   "execution_count": 4,
   "id": "f17cdeae",
   "metadata": {},
   "outputs": [],
   "source": [
    "# Create scaler instance\n",
    "X_scaler = skl.preprocessing.StandardScaler()\n",
    "\n",
    "# Fit the scaler\n",
    "X_scaler.fit(X_train)\n",
    "\n",
    "# Scale the data\n",
    "X_train_scaled = X_scaler.transform(X_train)\n",
    "X_test_scaled = X_scaler.transform(X_test)"
   ]
  },
  {
   "cell_type": "code",
   "execution_count": 5,
   "id": "ca870b3d",
   "metadata": {},
   "outputs": [],
   "source": [
    "# Create the Keras Sequential model\n",
    "nn_model = tf.keras.models.Sequential()"
   ]
  },
  {
   "cell_type": "code",
   "execution_count": 6,
   "id": "2d823a8b",
   "metadata": {},
   "outputs": [],
   "source": [
    "# Add our first Dense layer, including the input layer\n",
    "nn_model.add(tf.keras.layers.Dense(units=1, activation=\"relu\", input_dim=2))"
   ]
  },
  {
   "cell_type": "code",
   "execution_count": 7,
   "id": "61784fbb",
   "metadata": {},
   "outputs": [],
   "source": [
    "# Add the output layer that uses a probability activation function\n",
    "nn_model.add(tf.keras.layers.Dense(units=1, activation=\"sigmoid\"))"
   ]
  },
  {
   "cell_type": "code",
   "execution_count": 8,
   "id": "9bbb0c88",
   "metadata": {},
   "outputs": [
    {
     "name": "stdout",
     "output_type": "stream",
     "text": [
      "Model: \"sequential\"\n",
      "_________________________________________________________________\n",
      " Layer (type)                Output Shape              Param #   \n",
      "=================================================================\n",
      " dense (Dense)               (None, 1)                 3         \n",
      "                                                                 \n",
      " dense_1 (Dense)             (None, 1)                 2         \n",
      "                                                                 \n",
      "=================================================================\n",
      "Total params: 5\n",
      "Trainable params: 5\n",
      "Non-trainable params: 0\n",
      "_________________________________________________________________\n"
     ]
    }
   ],
   "source": [
    "# Check the structure of the Sequential model\n",
    "nn_model.summary()"
   ]
  },
  {
   "cell_type": "code",
   "execution_count": 9,
   "id": "6af34fdd",
   "metadata": {},
   "outputs": [],
   "source": [
    "# Compile the Sequential model together and customize metrics\n",
    "nn_model.compile(loss=\"binary_crossentropy\", optimizer=\"adam\", metrics=[\"accuracy\"])"
   ]
  },
  {
   "cell_type": "code",
   "execution_count": 10,
   "id": "92393118",
   "metadata": {},
   "outputs": [
    {
     "name": "stdout",
     "output_type": "stream",
     "text": [
      "Epoch 1/100\n",
      "24/24 [==============================] - 3s 6ms/step - loss: 0.5387 - accuracy: 0.8853\n",
      "Epoch 2/100\n",
      "24/24 [==============================] - 0s 7ms/step - loss: 0.5267 - accuracy: 0.8907: 0s - loss: 0.5259 - accuracy: 0.\n",
      "Epoch 3/100\n",
      "24/24 [==============================] - 0s 7ms/step - loss: 0.5146 - accuracy: 0.8947\n",
      "Epoch 4/100\n",
      "24/24 [==============================] - 0s 6ms/step - loss: 0.5026 - accuracy: 0.9000\n",
      "Epoch 5/100\n",
      "24/24 [==============================] - 0s 4ms/step - loss: 0.4908 - accuracy: 0.9067\n",
      "Epoch 6/100\n",
      "24/24 [==============================] - 0s 4ms/step - loss: 0.4790 - accuracy: 0.9147\n",
      "Epoch 7/100\n",
      "24/24 [==============================] - 0s 4ms/step - loss: 0.4675 - accuracy: 0.9213\n",
      "Epoch 8/100\n",
      "24/24 [==============================] - 0s 4ms/step - loss: 0.4564 - accuracy: 0.9267\n",
      "Epoch 9/100\n",
      "24/24 [==============================] - 0s 4ms/step - loss: 0.4455 - accuracy: 0.9320\n",
      "Epoch 10/100\n",
      "24/24 [==============================] - 0s 4ms/step - loss: 0.4350 - accuracy: 0.9347\n",
      "Epoch 11/100\n",
      "24/24 [==============================] - 0s 4ms/step - loss: 0.4249 - accuracy: 0.9373\n",
      "Epoch 12/100\n",
      "24/24 [==============================] - 0s 4ms/step - loss: 0.4150 - accuracy: 0.9413\n",
      "Epoch 13/100\n",
      "24/24 [==============================] - 0s 4ms/step - loss: 0.4054 - accuracy: 0.9453\n",
      "Epoch 14/100\n",
      "24/24 [==============================] - ETA: 0s - loss: 0.3960 - accuracy: 0.94 - 0s 5ms/step - loss: 0.3960 - accuracy: 0.9480\n",
      "Epoch 15/100\n",
      "24/24 [==============================] - 0s 6ms/step - loss: 0.3867 - accuracy: 0.9493\n",
      "Epoch 16/100\n",
      "24/24 [==============================] - 0s 6ms/step - loss: 0.3776 - accuracy: 0.9520\n",
      "Epoch 17/100\n",
      "24/24 [==============================] - 0s 7ms/step - loss: 0.3687 - accuracy: 0.9520\n",
      "Epoch 18/100\n",
      "24/24 [==============================] - 0s 4ms/step - loss: 0.3601 - accuracy: 0.9560\n",
      "Epoch 19/100\n",
      "24/24 [==============================] - 0s 4ms/step - loss: 0.3515 - accuracy: 0.9600\n",
      "Epoch 20/100\n",
      "24/24 [==============================] - 0s 4ms/step - loss: 0.3433 - accuracy: 0.9627\n",
      "Epoch 21/100\n",
      "24/24 [==============================] - 0s 4ms/step - loss: 0.3352 - accuracy: 0.9640\n",
      "Epoch 22/100\n",
      "24/24 [==============================] - 0s 4ms/step - loss: 0.3273 - accuracy: 0.9653\n",
      "Epoch 23/100\n",
      "24/24 [==============================] - 0s 4ms/step - loss: 0.3197 - accuracy: 0.9667\n",
      "Epoch 24/100\n",
      "24/24 [==============================] - 0s 4ms/step - loss: 0.3123 - accuracy: 0.9693\n",
      "Epoch 25/100\n",
      "24/24 [==============================] - 0s 4ms/step - loss: 0.3051 - accuracy: 0.9733\n",
      "Epoch 26/100\n",
      "24/24 [==============================] - 0s 4ms/step - loss: 0.2981 - accuracy: 0.9747\n",
      "Epoch 27/100\n",
      "24/24 [==============================] - 0s 4ms/step - loss: 0.2913 - accuracy: 0.9747\n",
      "Epoch 28/100\n",
      "24/24 [==============================] - 0s 4ms/step - loss: 0.2847 - accuracy: 0.9760\n",
      "Epoch 29/100\n",
      "24/24 [==============================] - 0s 4ms/step - loss: 0.2782 - accuracy: 0.9760\n",
      "Epoch 30/100\n",
      "24/24 [==============================] - 0s 4ms/step - loss: 0.2720 - accuracy: 0.9787\n",
      "Epoch 31/100\n",
      "24/24 [==============================] - 0s 4ms/step - loss: 0.2660 - accuracy: 0.9827\n",
      "Epoch 32/100\n",
      "24/24 [==============================] - 0s 4ms/step - loss: 0.2599 - accuracy: 0.9840\n",
      "Epoch 33/100\n",
      "24/24 [==============================] - 0s 4ms/step - loss: 0.2540 - accuracy: 0.9840\n",
      "Epoch 34/100\n",
      "24/24 [==============================] - 0s 4ms/step - loss: 0.2483 - accuracy: 0.9840\n",
      "Epoch 35/100\n",
      "24/24 [==============================] - 0s 4ms/step - loss: 0.2427 - accuracy: 0.9840\n",
      "Epoch 36/100\n",
      "24/24 [==============================] - 0s 4ms/step - loss: 0.2373 - accuracy: 0.9853\n",
      "Epoch 37/100\n",
      "24/24 [==============================] - 0s 4ms/step - loss: 0.2319 - accuracy: 0.9853\n",
      "Epoch 38/100\n",
      "24/24 [==============================] - 0s 4ms/step - loss: 0.2267 - accuracy: 0.9853\n",
      "Epoch 39/100\n",
      "24/24 [==============================] - 0s 4ms/step - loss: 0.2216 - accuracy: 0.9867\n",
      "Epoch 40/100\n",
      "24/24 [==============================] - 0s 4ms/step - loss: 0.2167 - accuracy: 0.9867\n",
      "Epoch 41/100\n",
      "24/24 [==============================] - 0s 4ms/step - loss: 0.2121 - accuracy: 0.9867\n",
      "Epoch 42/100\n",
      "24/24 [==============================] - 0s 4ms/step - loss: 0.2074 - accuracy: 0.9880\n",
      "Epoch 43/100\n",
      "24/24 [==============================] - 0s 4ms/step - loss: 0.2029 - accuracy: 0.9880\n",
      "Epoch 44/100\n",
      "24/24 [==============================] - 0s 4ms/step - loss: 0.1986 - accuracy: 0.9880\n",
      "Epoch 45/100\n",
      "24/24 [==============================] - 0s 4ms/step - loss: 0.1943 - accuracy: 0.9880\n",
      "Epoch 46/100\n",
      "24/24 [==============================] - 0s 4ms/step - loss: 0.1902 - accuracy: 0.9920\n",
      "Epoch 47/100\n",
      "24/24 [==============================] - 0s 4ms/step - loss: 0.1862 - accuracy: 0.9933\n",
      "Epoch 48/100\n",
      "24/24 [==============================] - 0s 4ms/step - loss: 0.1823 - accuracy: 0.9947\n",
      "Epoch 49/100\n",
      "24/24 [==============================] - 0s 5ms/step - loss: 0.1785 - accuracy: 0.9947\n",
      "Epoch 50/100\n",
      "24/24 [==============================] - 0s 4ms/step - loss: 0.1748 - accuracy: 0.9960\n",
      "Epoch 51/100\n",
      "24/24 [==============================] - 0s 4ms/step - loss: 0.1713 - accuracy: 0.9960\n",
      "Epoch 52/100\n",
      "24/24 [==============================] - 0s 4ms/step - loss: 0.1678 - accuracy: 0.9960\n",
      "Epoch 53/100\n",
      "24/24 [==============================] - 0s 6ms/step - loss: 0.1645 - accuracy: 0.9960\n",
      "Epoch 54/100\n",
      "24/24 [==============================] - 0s 4ms/step - loss: 0.1612 - accuracy: 0.9960\n",
      "Epoch 55/100\n",
      "24/24 [==============================] - 0s 5ms/step - loss: 0.1580 - accuracy: 0.9960\n",
      "Epoch 56/100\n",
      "24/24 [==============================] - 0s 4ms/step - loss: 0.1549 - accuracy: 0.9960\n",
      "Epoch 57/100\n",
      "24/24 [==============================] - 0s 4ms/step - loss: 0.1519 - accuracy: 0.9973\n",
      "Epoch 58/100\n",
      "24/24 [==============================] - 0s 4ms/step - loss: 0.1489 - accuracy: 0.9973\n",
      "Epoch 59/100\n",
      "24/24 [==============================] - 0s 4ms/step - loss: 0.1461 - accuracy: 0.9973\n",
      "Epoch 60/100\n",
      "24/24 [==============================] - 0s 4ms/step - loss: 0.1433 - accuracy: 0.9973\n",
      "Epoch 61/100\n",
      "24/24 [==============================] - 0s 4ms/step - loss: 0.1406 - accuracy: 0.9987\n",
      "Epoch 62/100\n",
      "24/24 [==============================] - 0s 4ms/step - loss: 0.1380 - accuracy: 0.9987\n",
      "Epoch 63/100\n",
      "24/24 [==============================] - 0s 4ms/step - loss: 0.1354 - accuracy: 0.9987\n",
      "Epoch 64/100\n",
      "24/24 [==============================] - 0s 4ms/step - loss: 0.1329 - accuracy: 0.9987\n",
      "Epoch 65/100\n",
      "24/24 [==============================] - 0s 4ms/step - loss: 0.1305 - accuracy: 0.9987\n",
      "Epoch 66/100\n",
      "24/24 [==============================] - 0s 4ms/step - loss: 0.1282 - accuracy: 1.0000\n",
      "Epoch 67/100\n",
      "24/24 [==============================] - 0s 4ms/step - loss: 0.1259 - accuracy: 1.0000\n",
      "Epoch 68/100\n",
      "24/24 [==============================] - 0s 4ms/step - loss: 0.1236 - accuracy: 1.0000\n",
      "Epoch 69/100\n",
      "24/24 [==============================] - 0s 4ms/step - loss: 0.1214 - accuracy: 1.0000\n",
      "Epoch 70/100\n",
      "24/24 [==============================] - 0s 4ms/step - loss: 0.1193 - accuracy: 1.0000\n",
      "Epoch 71/100\n",
      "24/24 [==============================] - 0s 4ms/step - loss: 0.1172 - accuracy: 1.0000\n",
      "Epoch 72/100\n",
      "24/24 [==============================] - 0s 4ms/step - loss: 0.1152 - accuracy: 1.0000\n",
      "Epoch 73/100\n",
      "24/24 [==============================] - 0s 4ms/step - loss: 0.1132 - accuracy: 1.0000\n",
      "Epoch 74/100\n",
      "24/24 [==============================] - 0s 4ms/step - loss: 0.1113 - accuracy: 1.0000\n",
      "Epoch 75/100\n",
      "24/24 [==============================] - 0s 4ms/step - loss: 0.1094 - accuracy: 1.0000\n",
      "Epoch 76/100\n",
      "24/24 [==============================] - 0s 4ms/step - loss: 0.1076 - accuracy: 1.0000\n",
      "Epoch 77/100\n",
      "24/24 [==============================] - 0s 5ms/step - loss: 0.1058 - accuracy: 1.0000\n",
      "Epoch 78/100\n",
      "24/24 [==============================] - 0s 4ms/step - loss: 0.1040 - accuracy: 1.0000\n",
      "Epoch 79/100\n",
      "24/24 [==============================] - 0s 4ms/step - loss: 0.1023 - accuracy: 1.0000\n",
      "Epoch 80/100\n",
      "24/24 [==============================] - 0s 4ms/step - loss: 0.1006 - accuracy: 1.0000\n",
      "Epoch 81/100\n",
      "24/24 [==============================] - 0s 4ms/step - loss: 0.0990 - accuracy: 1.0000\n",
      "Epoch 82/100\n"
     ]
    },
    {
     "name": "stdout",
     "output_type": "stream",
     "text": [
      "24/24 [==============================] - 0s 5ms/step - loss: 0.0974 - accuracy: 1.0000\n",
      "Epoch 83/100\n",
      "24/24 [==============================] - 0s 6ms/step - loss: 0.0959 - accuracy: 1.0000\n",
      "Epoch 84/100\n",
      "24/24 [==============================] - 0s 6ms/step - loss: 0.0943 - accuracy: 1.0000\n",
      "Epoch 85/100\n",
      "24/24 [==============================] - 0s 5ms/step - loss: 0.0928 - accuracy: 1.0000\n",
      "Epoch 86/100\n",
      "24/24 [==============================] - 0s 7ms/step - loss: 0.0914 - accuracy: 1.0000\n",
      "Epoch 87/100\n",
      "24/24 [==============================] - 0s 5ms/step - loss: 0.0899 - accuracy: 1.0000\n",
      "Epoch 88/100\n",
      "24/24 [==============================] - 0s 4ms/step - loss: 0.0885 - accuracy: 1.0000\n",
      "Epoch 89/100\n",
      "24/24 [==============================] - 0s 4ms/step - loss: 0.0871 - accuracy: 1.0000\n",
      "Epoch 90/100\n",
      "24/24 [==============================] - 0s 4ms/step - loss: 0.0858 - accuracy: 1.0000\n",
      "Epoch 91/100\n",
      "24/24 [==============================] - 0s 5ms/step - loss: 0.0844 - accuracy: 1.0000\n",
      "Epoch 92/100\n",
      "24/24 [==============================] - 0s 4ms/step - loss: 0.0831 - accuracy: 1.0000\n",
      "Epoch 93/100\n",
      "24/24 [==============================] - 0s 4ms/step - loss: 0.0819 - accuracy: 1.0000\n",
      "Epoch 94/100\n",
      "24/24 [==============================] - 0s 6ms/step - loss: 0.0806 - accuracy: 1.0000\n",
      "Epoch 95/100\n",
      "24/24 [==============================] - 0s 6ms/step - loss: 0.0794 - accuracy: 1.0000\n",
      "Epoch 96/100\n",
      "24/24 [==============================] - 0s 8ms/step - loss: 0.0783 - accuracy: 1.0000\n",
      "Epoch 97/100\n",
      "24/24 [==============================] - 0s 5ms/step - loss: 0.0771 - accuracy: 1.0000\n",
      "Epoch 98/100\n",
      "24/24 [==============================] - 0s 5ms/step - loss: 0.0759 - accuracy: 1.0000\n",
      "Epoch 99/100\n",
      "24/24 [==============================] - 0s 5ms/step - loss: 0.0748 - accuracy: 1.0000\n",
      "Epoch 100/100\n",
      "24/24 [==============================] - 0s 5ms/step - loss: 0.0737 - accuracy: 1.0000\n"
     ]
    }
   ],
   "source": [
    "# Fit the model to the training data\n",
    "fit_model = nn_model.fit(X_train_scaled, y_train, epochs=100)"
   ]
  },
  {
   "cell_type": "code",
   "execution_count": 11,
   "id": "7562cf47",
   "metadata": {},
   "outputs": [
    {
     "data": {
      "text/plain": [
       "<AxesSubplot:>"
      ]
     },
     "execution_count": 11,
     "metadata": {},
     "output_type": "execute_result"
    },
    {
     "data": {
      "image/png": "[encoded data removed]",
      "text/plain": [
       "<Figure size 432x288 with 1 Axes>"
      ]
     },
     "metadata": {
      "needs_background": "light"
     },
     "output_type": "display_data"
    }
   ],
   "source": [
    "# Create a DataFrame containing training history\n",
    "history_df = pd.DataFrame(fit_model.history, index=range(1,len(fit_model.history[\"loss\"])+1))\n",
    "\n",
    "# Plot the loss\n",
    "history_df.plot(y=\"loss\")"
   ]
  },
  {
   "cell_type": "code",
   "execution_count": 12,
   "id": "aad372d9",
   "metadata": {},
   "outputs": [
    {
     "data": {
      "text/plain": [
       "<AxesSubplot:>"
      ]
     },
     "execution_count": 12,
     "metadata": {},
     "output_type": "execute_result"
    },
    {
     "data": {
      "image/png": "[encoded data removed]",
      "text/plain": [
       "<Figure size 432x288 with 1 Axes>"
      ]
     },
     "metadata": {
      "needs_background": "light"
     },
     "output_type": "display_data"
    }
   ],
   "source": [
    "# Plot the accuracy\n",
    "history_df.plot(y=\"accuracy\")"
   ]
  },
  {
   "cell_type": "code",
   "execution_count": 13,
   "id": "c3b46cd5",
   "metadata": {},
   "outputs": [
    {
     "name": "stdout",
     "output_type": "stream",
     "text": [
      "8/8 - 0s - loss: 0.0687 - accuracy: 1.0000 - 490ms/epoch - 61ms/step\n",
      "Loss: 0.06872690469026566, Accuracy: 1.0\n"
     ]
    }
   ],
   "source": [
    "# Evaluate the model using the test data\n",
    "model_loss, model_accuracy = nn_model.evaluate(X_test_scaled,y_test,verbose=2)\n",
    "print(f\"Loss: {model_loss}, Accuracy: {model_accuracy}\")"
   ]
  },
  {
   "cell_type": "code",
   "execution_count": 14,
   "id": "263aa7e1",
   "metadata": {},
   "outputs": [
    {
     "data": {
      "text/plain": [
       "array([[0],\n",
       "       [1],\n",
       "       [0],\n",
       "       [1],\n",
       "       [0],\n",
       "       [0],\n",
       "       [1],\n",
       "       [1],\n",
       "       [1],\n",
       "       [0]])"
      ]
     },
     "execution_count": 14,
     "metadata": {},
     "output_type": "execute_result"
    }
   ],
   "source": [
    "# Predict the classification of a new set of blob data\n",
    "new_X, new_Y = make_blobs(n_samples=10, centers=2, n_features=2, random_state=78)\n",
    "new_X_scaled = X_scaler.transform(new_X)\n",
    "(nn_model.predict(new_X_scaled) > 0.5).astype(\"int32\")"
   ]
  },
  {
   "cell_type": "code",
   "execution_count": 15,
   "id": "f111d6e0",
   "metadata": {},
   "outputs": [
    {
     "data": {
      "text/plain": [
       "<AxesSubplot:xlabel='Feature 1', ylabel='Feature 2'>"
      ]
     },
     "execution_count": 15,
     "metadata": {},
     "output_type": "execute_result"
    },
    {
     "data": {
      "image/png": "[encoded data removed]",
      "text/plain": [
       "<Figure size 432x288 with 2 Axes>"
      ]
     },
     "metadata": {
      "needs_background": "light"
     },
     "output_type": "display_data"
    }
   ],
   "source": [
    "from sklearn.datasets import make_moons\n",
    "\n",
    "# Creating dummy nonlinear data\n",
    "X_moons, y_moons = make_moons(n_samples=1000, noise=0.08, random_state=78)\n",
    "\n",
    "# Transforming y_moons to a vertical vector\n",
    "y_moons = y_moons.reshape(-1, 1)\n",
    "\n",
    "# Creating a DataFrame to plot the nonlinear dummy data\n",
    "df_moons = pd.DataFrame(X_moons, columns=[\"Feature 1\", \"Feature 2\"])\n",
    "df_moons[\"Target\"] = y_moons\n",
    "\n",
    "# Plot the nonlinear dummy data\n",
    "df_moons.plot.scatter(x=\"Feature 1\",y=\"Feature 2\", c=\"Target\",colormap=\"winter\")"
   ]
  },
  {
   "cell_type": "code",
   "execution_count": 16,
   "id": "3c76194f",
   "metadata": {},
   "outputs": [],
   "source": [
    "# Create training and testing sets\n",
    "X_moon_train, X_moon_test, y_moon_train, y_moon_test = train_test_split(\n",
    "    X_moons, y_moons, random_state=78\n",
    ")\n",
    "\n",
    "# Create the scaler instance\n",
    "X_moon_scaler = skl.preprocessing.StandardScaler()\n",
    "\n",
    "# Fit the scaler\n",
    "X_moon_scaler.fit(X_moon_train)\n",
    "\n",
    "# Scale the data\n",
    "X_moon_train_scaled = X_moon_scaler.transform(X_moon_train)\n",
    "X_moon_test_scaled = X_moon_scaler.transform(X_moon_test)"
   ]
  },
  {
   "cell_type": "code",
   "execution_count": 17,
   "id": "e1a0f154",
   "metadata": {},
   "outputs": [
    {
     "name": "stdout",
     "output_type": "stream",
     "text": [
      "Epoch 1/100\n",
      "24/24 [==============================] - 1s 6ms/step - loss: 1.1091 - accuracy: 0.4773\n",
      "Epoch 2/100\n",
      "24/24 [==============================] - 0s 5ms/step - loss: 0.9350 - accuracy: 0.5120\n",
      "Epoch 3/100\n",
      "24/24 [==============================] - 0s 5ms/step - loss: 0.8303 - accuracy: 0.5360\n",
      "Epoch 4/100\n",
      "24/24 [==============================] - 0s 6ms/step - loss: 0.7588 - accuracy: 0.5680\n",
      "Epoch 5/100\n",
      "24/24 [==============================] - 0s 6ms/step - loss: 0.7069 - accuracy: 0.5813\n",
      "Epoch 6/100\n",
      "24/24 [==============================] - 0s 6ms/step - loss: 0.6662 - accuracy: 0.6080\n",
      "Epoch 7/100\n",
      "24/24 [==============================] - 0s 5ms/step - loss: 0.6313 - accuracy: 0.6213\n",
      "Epoch 8/100\n",
      "24/24 [==============================] - 0s 5ms/step - loss: 0.6007 - accuracy: 0.6333\n",
      "Epoch 9/100\n",
      "24/24 [==============================] - 0s 5ms/step - loss: 0.5740 - accuracy: 0.6493\n",
      "Epoch 10/100\n",
      "24/24 [==============================] - 0s 5ms/step - loss: 0.5498 - accuracy: 0.6667\n",
      "Epoch 11/100\n",
      "24/24 [==============================] - 0s 5ms/step - loss: 0.5285 - accuracy: 0.6827\n",
      "Epoch 12/100\n",
      "24/24 [==============================] - 0s 5ms/step - loss: 0.5090 - accuracy: 0.6907\n",
      "Epoch 13/100\n",
      "24/24 [==============================] - 0s 5ms/step - loss: 0.4918 - accuracy: 0.6973\n",
      "Epoch 14/100\n",
      "24/24 [==============================] - 0s 5ms/step - loss: 0.4758 - accuracy: 0.7147\n",
      "Epoch 15/100\n",
      "24/24 [==============================] - 0s 5ms/step - loss: 0.4611 - accuracy: 0.7213\n",
      "Epoch 16/100\n",
      "24/24 [==============================] - 0s 7ms/step - loss: 0.4476 - accuracy: 0.7333\n",
      "Epoch 17/100\n",
      "24/24 [==============================] - 0s 6ms/step - loss: 0.4351 - accuracy: 0.7480\n",
      "Epoch 18/100\n",
      "24/24 [==============================] - 0s 5ms/step - loss: 0.4236 - accuracy: 0.7587\n",
      "Epoch 19/100\n",
      "24/24 [==============================] - 0s 6ms/step - loss: 0.4127 - accuracy: 0.7680\n",
      "Epoch 20/100\n",
      "24/24 [==============================] - 0s 5ms/step - loss: 0.4025 - accuracy: 0.7813\n",
      "Epoch 21/100\n",
      "24/24 [==============================] - 0s 6ms/step - loss: 0.3932 - accuracy: 0.7840\n",
      "Epoch 22/100\n",
      "24/24 [==============================] - 0s 6ms/step - loss: 0.3844 - accuracy: 0.7867\n",
      "Epoch 23/100\n",
      "24/24 [==============================] - 0s 5ms/step - loss: 0.3761 - accuracy: 0.7947\n",
      "Epoch 24/100\n",
      "24/24 [==============================] - 0s 5ms/step - loss: 0.3683 - accuracy: 0.7973\n",
      "Epoch 25/100\n",
      "24/24 [==============================] - 0s 5ms/step - loss: 0.3610 - accuracy: 0.8013\n",
      "Epoch 26/100\n",
      "24/24 [==============================] - 0s 5ms/step - loss: 0.3545 - accuracy: 0.8120\n",
      "Epoch 27/100\n",
      "24/24 [==============================] - 0s 5ms/step - loss: 0.3482 - accuracy: 0.8173\n",
      "Epoch 28/100\n",
      "24/24 [==============================] - 0s 6ms/step - loss: 0.3426 - accuracy: 0.8227\n",
      "Epoch 29/100\n",
      "24/24 [==============================] - 0s 6ms/step - loss: 0.3376 - accuracy: 0.8253\n",
      "Epoch 30/100\n",
      "24/24 [==============================] - 0s 6ms/step - loss: 0.3332 - accuracy: 0.8360\n",
      "Epoch 31/100\n",
      "24/24 [==============================] - 0s 5ms/step - loss: 0.3288 - accuracy: 0.8427\n",
      "Epoch 32/100\n",
      "24/24 [==============================] - 0s 6ms/step - loss: 0.3250 - accuracy: 0.8427\n",
      "Epoch 33/100\n",
      "24/24 [==============================] - 0s 6ms/step - loss: 0.3214 - accuracy: 0.8480\n",
      "Epoch 34/100\n",
      "24/24 [==============================] - ETA: 0s - loss: 0.3278 - accuracy: 0.84 - 0s 6ms/step - loss: 0.3180 - accuracy: 0.8507\n",
      "Epoch 35/100\n",
      "24/24 [==============================] - 0s 8ms/step - loss: 0.3151 - accuracy: 0.8560\n",
      "Epoch 36/100\n",
      "24/24 [==============================] - 0s 8ms/step - loss: 0.3121 - accuracy: 0.8560\n",
      "Epoch 37/100\n",
      "24/24 [==============================] - 0s 7ms/step - loss: 0.3095 - accuracy: 0.8613\n",
      "Epoch 38/100\n",
      "24/24 [==============================] - 0s 7ms/step - loss: 0.3069 - accuracy: 0.8640\n",
      "Epoch 39/100\n",
      "24/24 [==============================] - 0s 6ms/step - loss: 0.3045 - accuracy: 0.8667\n",
      "Epoch 40/100\n",
      "24/24 [==============================] - 0s 5ms/step - loss: 0.3023 - accuracy: 0.8667\n",
      "Epoch 41/100\n",
      "24/24 [==============================] - 0s 5ms/step - loss: 0.3001 - accuracy: 0.8680\n",
      "Epoch 42/100\n",
      "24/24 [==============================] - 0s 6ms/step - loss: 0.2983 - accuracy: 0.8680\n",
      "Epoch 43/100\n",
      "24/24 [==============================] - 0s 6ms/step - loss: 0.2963 - accuracy: 0.8693\n",
      "Epoch 44/100\n",
      "24/24 [==============================] - 0s 6ms/step - loss: 0.2946 - accuracy: 0.8707\n",
      "Epoch 45/100\n",
      "24/24 [==============================] - 0s 5ms/step - loss: 0.2929 - accuracy: 0.8707\n",
      "Epoch 46/100\n",
      "24/24 [==============================] - 0s 7ms/step - loss: 0.2914 - accuracy: 0.8720\n",
      "Epoch 47/100\n",
      "24/24 [==============================] - 0s 7ms/step - loss: 0.2899 - accuracy: 0.8720\n",
      "Epoch 48/100\n",
      "24/24 [==============================] - 0s 5ms/step - loss: 0.2886 - accuracy: 0.8733\n",
      "Epoch 49/100\n",
      "24/24 [==============================] - 0s 6ms/step - loss: 0.2873 - accuracy: 0.8733\n",
      "Epoch 50/100\n",
      "24/24 [==============================] - 0s 8ms/step - loss: 0.2860 - accuracy: 0.8733: 0s - loss: 0.2832 - accuracy: 0.87\n",
      "Epoch 51/100\n",
      "24/24 [==============================] - 0s 6ms/step - loss: 0.2849 - accuracy: 0.8733\n",
      "Epoch 52/100\n",
      "24/24 [==============================] - 0s 6ms/step - loss: 0.2838 - accuracy: 0.8760\n",
      "Epoch 53/100\n",
      "24/24 [==============================] - 0s 7ms/step - loss: 0.2826 - accuracy: 0.8773\n",
      "Epoch 54/100\n",
      "24/24 [==============================] - 0s 9ms/step - loss: 0.2817 - accuracy: 0.8773\n",
      "Epoch 55/100\n",
      "24/24 [==============================] - 0s 8ms/step - loss: 0.2807 - accuracy: 0.8800\n",
      "Epoch 56/100\n",
      "24/24 [==============================] - 0s 6ms/step - loss: 0.2797 - accuracy: 0.8800\n",
      "Epoch 57/100\n",
      "24/24 [==============================] - 0s 6ms/step - loss: 0.2788 - accuracy: 0.8827\n",
      "Epoch 58/100\n",
      "24/24 [==============================] - 0s 5ms/step - loss: 0.2780 - accuracy: 0.8840\n",
      "Epoch 59/100\n",
      "24/24 [==============================] - 0s 5ms/step - loss: 0.2771 - accuracy: 0.8867\n",
      "Epoch 60/100\n",
      "24/24 [==============================] - 0s 5ms/step - loss: 0.2763 - accuracy: 0.8853\n",
      "Epoch 61/100\n",
      "24/24 [==============================] - 0s 5ms/step - loss: 0.2754 - accuracy: 0.8880\n",
      "Epoch 62/100\n",
      "24/24 [==============================] - 0s 5ms/step - loss: 0.2747 - accuracy: 0.8880\n",
      "Epoch 63/100\n",
      "24/24 [==============================] - 0s 5ms/step - loss: 0.2740 - accuracy: 0.8880\n",
      "Epoch 64/100\n",
      "24/24 [==============================] - 0s 5ms/step - loss: 0.2733 - accuracy: 0.8893\n",
      "Epoch 65/100\n",
      "24/24 [==============================] - 0s 5ms/step - loss: 0.2728 - accuracy: 0.8893\n",
      "Epoch 66/100\n",
      "24/24 [==============================] - 0s 6ms/step - loss: 0.2721 - accuracy: 0.8907\n",
      "Epoch 67/100\n",
      "24/24 [==============================] - 0s 7ms/step - loss: 0.2715 - accuracy: 0.8920\n",
      "Epoch 68/100\n",
      "24/24 [==============================] - 0s 6ms/step - loss: 0.2708 - accuracy: 0.8907\n",
      "Epoch 69/100\n",
      "24/24 [==============================] - 0s 5ms/step - loss: 0.2703 - accuracy: 0.8920\n",
      "Epoch 70/100\n",
      "24/24 [==============================] - 0s 5ms/step - loss: 0.2697 - accuracy: 0.8933\n",
      "Epoch 71/100\n",
      "24/24 [==============================] - 0s 6ms/step - loss: 0.2692 - accuracy: 0.8933\n",
      "Epoch 72/100\n",
      "24/24 [==============================] - 0s 6ms/step - loss: 0.2687 - accuracy: 0.8933\n",
      "Epoch 73/100\n",
      "24/24 [==============================] - 0s 6ms/step - loss: 0.2681 - accuracy: 0.8933\n",
      "Epoch 74/100\n",
      "24/24 [==============================] - 0s 5ms/step - loss: 0.2677 - accuracy: 0.8933\n",
      "Epoch 75/100\n",
      "24/24 [==============================] - 0s 5ms/step - loss: 0.2672 - accuracy: 0.8933\n",
      "Epoch 76/100\n",
      "24/24 [==============================] - 0s 5ms/step - loss: 0.2668 - accuracy: 0.8933\n",
      "Epoch 77/100\n",
      "24/24 [==============================] - 0s 6ms/step - loss: 0.2663 - accuracy: 0.8933\n",
      "Epoch 78/100\n",
      "24/24 [==============================] - 0s 5ms/step - loss: 0.2659 - accuracy: 0.8933\n",
      "Epoch 79/100\n",
      "24/24 [==============================] - 0s 5ms/step - loss: 0.2655 - accuracy: 0.8933\n",
      "Epoch 80/100\n",
      "24/24 [==============================] - 0s 5ms/step - loss: 0.2651 - accuracy: 0.8933\n",
      "Epoch 81/100\n",
      "24/24 [==============================] - 0s 6ms/step - loss: 0.2647 - accuracy: 0.8933\n",
      "Epoch 82/100\n"
     ]
    },
    {
     "name": "stdout",
     "output_type": "stream",
     "text": [
      "24/24 [==============================] - 0s 5ms/step - loss: 0.2644 - accuracy: 0.8920\n",
      "Epoch 83/100\n",
      "24/24 [==============================] - 0s 5ms/step - loss: 0.2641 - accuracy: 0.8920\n",
      "Epoch 84/100\n",
      "24/24 [==============================] - 0s 5ms/step - loss: 0.2636 - accuracy: 0.8920\n",
      "Epoch 85/100\n",
      "24/24 [==============================] - 0s 5ms/step - loss: 0.2634 - accuracy: 0.8920\n",
      "Epoch 86/100\n",
      "24/24 [==============================] - 0s 5ms/step - loss: 0.2631 - accuracy: 0.8920\n",
      "Epoch 87/100\n",
      "24/24 [==============================] - 0s 5ms/step - loss: 0.2627 - accuracy: 0.8907\n",
      "Epoch 88/100\n",
      "24/24 [==============================] - 0s 5ms/step - loss: 0.2624 - accuracy: 0.8907\n",
      "Epoch 89/100\n",
      "24/24 [==============================] - 0s 5ms/step - loss: 0.2621 - accuracy: 0.8907\n",
      "Epoch 90/100\n",
      "24/24 [==============================] - 0s 6ms/step - loss: 0.2617 - accuracy: 0.8920\n",
      "Epoch 91/100\n",
      "24/24 [==============================] - 0s 6ms/step - loss: 0.2615 - accuracy: 0.8920\n",
      "Epoch 92/100\n",
      "24/24 [==============================] - 0s 6ms/step - loss: 0.2612 - accuracy: 0.8920\n",
      "Epoch 93/100\n",
      "24/24 [==============================] - 0s 6ms/step - loss: 0.2610 - accuracy: 0.8920\n",
      "Epoch 94/100\n",
      "24/24 [==============================] - 0s 5ms/step - loss: 0.2607 - accuracy: 0.8920\n",
      "Epoch 95/100\n",
      "24/24 [==============================] - 0s 6ms/step - loss: 0.2605 - accuracy: 0.8920\n",
      "Epoch 96/100\n",
      "24/24 [==============================] - 0s 6ms/step - loss: 0.2602 - accuracy: 0.8920\n",
      "Epoch 97/100\n",
      "24/24 [==============================] - 0s 5ms/step - loss: 0.2600 - accuracy: 0.8920\n",
      "Epoch 98/100\n",
      "24/24 [==============================] - 0s 6ms/step - loss: 0.2597 - accuracy: 0.8920\n",
      "Epoch 99/100\n",
      "24/24 [==============================] - 0s 5ms/step - loss: 0.2596 - accuracy: 0.8920\n",
      "Epoch 100/100\n",
      "24/24 [==============================] - 0s 5ms/step - loss: 0.2593 - accuracy: 0.8920\n"
     ]
    }
   ],
   "source": [
    "# Training the model with the nonlinear data\n",
    "model_moon = nn_model.fit(X_moon_train_scaled, y_moon_train, epochs=100, shuffle=True)"
   ]
  },
  {
   "cell_type": "code",
   "execution_count": 18,
   "id": "9e3a77d5",
   "metadata": {},
   "outputs": [
    {
     "data": {
      "text/plain": [
       "<AxesSubplot:>"
      ]
     },
     "execution_count": 18,
     "metadata": {},
     "output_type": "execute_result"
    },
    {
     "data": {
      "image/png": "[encoded data removed]",
      "text/plain": [
       "<Figure size 432x288 with 1 Axes>"
      ]
     },
     "metadata": {
      "needs_background": "light"
     },
     "output_type": "display_data"
    }
   ],
   "source": [
    "# Create a DataFrame containing training history\n",
    "history_df = pd.DataFrame(model_moon.history, index=range(1,len(model_moon.history[\"loss\"])+1))\n",
    "\n",
    "# Plot the loss\n",
    "history_df.plot(y=\"loss\")"
   ]
  },
  {
   "cell_type": "code",
   "execution_count": 19,
   "id": "ab54d2b1",
   "metadata": {},
   "outputs": [
    {
     "data": {
      "text/plain": [
       "<AxesSubplot:>"
      ]
     },
     "execution_count": 19,
     "metadata": {},
     "output_type": "execute_result"
    },
    {
     "data": {
      "image/png": "[encoded data removed]",
      "text/plain": [
       "<Figure size 432x288 with 1 Axes>"
      ]
     },
     "metadata": {
      "needs_background": "light"
     },
     "output_type": "display_data"
    }
   ],
   "source": [
    "# Plot the accuracy\n",
    "history_df.plot(y=\"accuracy\")"
   ]
  },
  {
   "cell_type": "code",
   "execution_count": 20,
   "id": "89ba6233",
   "metadata": {},
   "outputs": [],
   "source": [
    "# Generate our new Sequential model\n",
    "new_model = tf.keras.models.Sequential()"
   ]
  },
  {
   "cell_type": "code",
   "execution_count": 21,
   "id": "43260c8b",
   "metadata": {},
   "outputs": [],
   "source": [
    "# Add the input and hidden layer\n",
    "number_inputs = 2\n",
    "number_hidden_nodes = 6\n",
    "\n",
    "new_model.add(tf.keras.layers.Dense(units=number_hidden_nodes, activation=\"relu\", input_dim=number_inputs))\n",
    "\n",
    "# Add the output layer that uses a probability activation function\n",
    "new_model.add(tf.keras.layers.Dense(units=1, activation=\"sigmoid\"))"
   ]
  },
  {
   "cell_type": "code",
   "execution_count": 22,
   "id": "5fd86099",
   "metadata": {},
   "outputs": [
    {
     "name": "stdout",
     "output_type": "stream",
     "text": [
      "Epoch 1/100\n",
      "24/24 [==============================] - 2s 4ms/step - loss: 0.6836 - accuracy: 0.4693\n",
      "Epoch 2/100\n",
      "24/24 [==============================] - 0s 4ms/step - loss: 0.6523 - accuracy: 0.4667\n",
      "Epoch 3/100\n",
      "24/24 [==============================] - 0s 5ms/step - loss: 0.6251 - accuracy: 0.4440\n",
      "Epoch 4/100\n",
      "24/24 [==============================] - 0s 4ms/step - loss: 0.6015 - accuracy: 0.4800\n",
      "Epoch 5/100\n",
      "24/24 [==============================] - 0s 4ms/step - loss: 0.5807 - accuracy: 0.5587\n",
      "Epoch 6/100\n",
      "24/24 [==============================] - 0s 4ms/step - loss: 0.5620 - accuracy: 0.6080\n",
      "Epoch 7/100\n",
      "24/24 [==============================] - 0s 3ms/step - loss: 0.5452 - accuracy: 0.6867\n",
      "Epoch 8/100\n",
      "24/24 [==============================] - 0s 3ms/step - loss: 0.5302 - accuracy: 0.7987\n",
      "Epoch 9/100\n",
      "24/24 [==============================] - 0s 3ms/step - loss: 0.5167 - accuracy: 0.8480\n",
      "Epoch 10/100\n",
      "24/24 [==============================] - 0s 3ms/step - loss: 0.5043 - accuracy: 0.8600\n",
      "Epoch 11/100\n",
      "24/24 [==============================] - 0s 3ms/step - loss: 0.4931 - accuracy: 0.8693\n",
      "Epoch 12/100\n",
      "24/24 [==============================] - 0s 3ms/step - loss: 0.4828 - accuracy: 0.8707\n",
      "Epoch 13/100\n",
      "24/24 [==============================] - 0s 3ms/step - loss: 0.4733 - accuracy: 0.8747\n",
      "Epoch 14/100\n",
      "24/24 [==============================] - 0s 4ms/step - loss: 0.4647 - accuracy: 0.8773\n",
      "Epoch 15/100\n",
      "24/24 [==============================] - 0s 3ms/step - loss: 0.4567 - accuracy: 0.8747\n",
      "Epoch 16/100\n",
      "24/24 [==============================] - 0s 3ms/step - loss: 0.4492 - accuracy: 0.8787\n",
      "Epoch 17/100\n",
      "24/24 [==============================] - 0s 3ms/step - loss: 0.4424 - accuracy: 0.8787\n",
      "Epoch 18/100\n",
      "24/24 [==============================] - 0s 3ms/step - loss: 0.4356 - accuracy: 0.8813: 0s - loss: 0.4396 - accuracy: 0.88\n",
      "Epoch 19/100\n",
      "24/24 [==============================] - 0s 4ms/step - loss: 0.4294 - accuracy: 0.8840\n",
      "Epoch 20/100\n",
      "24/24 [==============================] - 0s 4ms/step - loss: 0.4235 - accuracy: 0.8867\n",
      "Epoch 21/100\n",
      "24/24 [==============================] - 0s 4ms/step - loss: 0.4180 - accuracy: 0.8880\n",
      "Epoch 22/100\n",
      "24/24 [==============================] - 0s 3ms/step - loss: 0.4128 - accuracy: 0.8907\n",
      "Epoch 23/100\n",
      "24/24 [==============================] - 0s 3ms/step - loss: 0.4077 - accuracy: 0.8920\n",
      "Epoch 24/100\n",
      "24/24 [==============================] - 0s 3ms/step - loss: 0.4029 - accuracy: 0.8933\n",
      "Epoch 25/100\n",
      "24/24 [==============================] - 0s 3ms/step - loss: 0.3983 - accuracy: 0.8933\n",
      "Epoch 26/100\n",
      "24/24 [==============================] - 0s 3ms/step - loss: 0.3939 - accuracy: 0.8933\n",
      "Epoch 27/100\n",
      "24/24 [==============================] - 0s 3ms/step - loss: 0.3896 - accuracy: 0.8933\n",
      "Epoch 28/100\n",
      "24/24 [==============================] - 0s 3ms/step - loss: 0.3855 - accuracy: 0.8920\n",
      "Epoch 29/100\n",
      "24/24 [==============================] - 0s 3ms/step - loss: 0.3816 - accuracy: 0.8920\n",
      "Epoch 30/100\n",
      "24/24 [==============================] - 0s 3ms/step - loss: 0.3777 - accuracy: 0.8920\n",
      "Epoch 31/100\n",
      "24/24 [==============================] - 0s 3ms/step - loss: 0.3741 - accuracy: 0.8947\n",
      "Epoch 32/100\n",
      "24/24 [==============================] - 0s 3ms/step - loss: 0.3704 - accuracy: 0.8933\n",
      "Epoch 33/100\n",
      "24/24 [==============================] - 0s 3ms/step - loss: 0.3669 - accuracy: 0.8947\n",
      "Epoch 34/100\n",
      "24/24 [==============================] - 0s 3ms/step - loss: 0.3635 - accuracy: 0.8947\n",
      "Epoch 35/100\n",
      "24/24 [==============================] - 0s 3ms/step - loss: 0.3603 - accuracy: 0.8947\n",
      "Epoch 36/100\n",
      "24/24 [==============================] - 0s 3ms/step - loss: 0.3572 - accuracy: 0.8960\n",
      "Epoch 37/100\n",
      "24/24 [==============================] - 0s 3ms/step - loss: 0.3539 - accuracy: 0.8960\n",
      "Epoch 38/100\n",
      "24/24 [==============================] - 0s 3ms/step - loss: 0.3510 - accuracy: 0.8960\n",
      "Epoch 39/100\n",
      "24/24 [==============================] - 0s 3ms/step - loss: 0.3480 - accuracy: 0.8960\n",
      "Epoch 40/100\n",
      "24/24 [==============================] - 0s 3ms/step - loss: 0.3451 - accuracy: 0.9000\n",
      "Epoch 41/100\n",
      "24/24 [==============================] - 0s 3ms/step - loss: 0.3423 - accuracy: 0.9000\n",
      "Epoch 42/100\n",
      "24/24 [==============================] - 0s 3ms/step - loss: 0.3395 - accuracy: 0.9000\n",
      "Epoch 43/100\n",
      "24/24 [==============================] - 0s 4ms/step - loss: 0.3369 - accuracy: 0.9000\n",
      "Epoch 44/100\n",
      "24/24 [==============================] - 0s 4ms/step - loss: 0.3343 - accuracy: 0.9013\n",
      "Epoch 45/100\n",
      "24/24 [==============================] - 0s 6ms/step - loss: 0.3317 - accuracy: 0.9027\n",
      "Epoch 46/100\n",
      "24/24 [==============================] - 0s 3ms/step - loss: 0.3292 - accuracy: 0.9027\n",
      "Epoch 47/100\n",
      "24/24 [==============================] - 0s 3ms/step - loss: 0.3268 - accuracy: 0.9013\n",
      "Epoch 48/100\n",
      "24/24 [==============================] - 0s 3ms/step - loss: 0.3244 - accuracy: 0.9040\n",
      "Epoch 49/100\n",
      "24/24 [==============================] - 0s 3ms/step - loss: 0.3220 - accuracy: 0.9027\n",
      "Epoch 50/100\n",
      "24/24 [==============================] - 0s 3ms/step - loss: 0.3197 - accuracy: 0.9040\n",
      "Epoch 51/100\n",
      "24/24 [==============================] - 0s 4ms/step - loss: 0.3175 - accuracy: 0.9040\n",
      "Epoch 52/100\n",
      "24/24 [==============================] - 0s 4ms/step - loss: 0.3152 - accuracy: 0.9053\n",
      "Epoch 53/100\n",
      "24/24 [==============================] - 0s 4ms/step - loss: 0.3131 - accuracy: 0.9053\n",
      "Epoch 54/100\n",
      "24/24 [==============================] - 0s 3ms/step - loss: 0.3110 - accuracy: 0.9053\n",
      "Epoch 55/100\n",
      "24/24 [==============================] - 0s 3ms/step - loss: 0.3089 - accuracy: 0.9053\n",
      "Epoch 56/100\n",
      "24/24 [==============================] - 0s 4ms/step - loss: 0.3069 - accuracy: 0.9053\n",
      "Epoch 57/100\n",
      "24/24 [==============================] - 0s 4ms/step - loss: 0.3050 - accuracy: 0.9080\n",
      "Epoch 58/100\n",
      "24/24 [==============================] - 0s 7ms/step - loss: 0.3029 - accuracy: 0.9067\n",
      "Epoch 59/100\n",
      "24/24 [==============================] - 0s 4ms/step - loss: 0.3011 - accuracy: 0.9067\n",
      "Epoch 60/100\n",
      "24/24 [==============================] - 0s 4ms/step - loss: 0.2992 - accuracy: 0.9080\n",
      "Epoch 61/100\n",
      "24/24 [==============================] - 0s 5ms/step - loss: 0.2974 - accuracy: 0.9067\n",
      "Epoch 62/100\n",
      "24/24 [==============================] - 0s 5ms/step - loss: 0.2956 - accuracy: 0.9067\n",
      "Epoch 63/100\n",
      "24/24 [==============================] - 0s 5ms/step - loss: 0.2939 - accuracy: 0.9067\n",
      "Epoch 64/100\n",
      "24/24 [==============================] - 0s 6ms/step - loss: 0.2922 - accuracy: 0.9040\n",
      "Epoch 65/100\n",
      "24/24 [==============================] - 0s 5ms/step - loss: 0.2906 - accuracy: 0.9040\n",
      "Epoch 66/100\n",
      "24/24 [==============================] - 0s 4ms/step - loss: 0.2889 - accuracy: 0.9053\n",
      "Epoch 67/100\n",
      "24/24 [==============================] - 0s 6ms/step - loss: 0.2873 - accuracy: 0.9053\n",
      "Epoch 68/100\n",
      "24/24 [==============================] - 0s 5ms/step - loss: 0.2857 - accuracy: 0.9067\n",
      "Epoch 69/100\n",
      "24/24 [==============================] - 0s 4ms/step - loss: 0.2843 - accuracy: 0.9067\n",
      "Epoch 70/100\n",
      "24/24 [==============================] - 0s 4ms/step - loss: 0.2827 - accuracy: 0.9067\n",
      "Epoch 71/100\n",
      "24/24 [==============================] - 0s 4ms/step - loss: 0.2812 - accuracy: 0.9067\n",
      "Epoch 72/100\n",
      "24/24 [==============================] - 0s 5ms/step - loss: 0.2798 - accuracy: 0.9067\n",
      "Epoch 73/100\n",
      "24/24 [==============================] - 0s 4ms/step - loss: 0.2786 - accuracy: 0.9067\n",
      "Epoch 74/100\n",
      "24/24 [==============================] - 0s 5ms/step - loss: 0.2771 - accuracy: 0.9067\n",
      "Epoch 75/100\n",
      "24/24 [==============================] - 0s 5ms/step - loss: 0.2756 - accuracy: 0.9067\n",
      "Epoch 76/100\n",
      "24/24 [==============================] - 0s 4ms/step - loss: 0.2744 - accuracy: 0.9067\n",
      "Epoch 77/100\n",
      "24/24 [==============================] - 0s 4ms/step - loss: 0.2730 - accuracy: 0.9067\n",
      "Epoch 78/100\n",
      "24/24 [==============================] - 0s 4ms/step - loss: 0.2717 - accuracy: 0.9067\n",
      "Epoch 79/100\n",
      "24/24 [==============================] - 0s 6ms/step - loss: 0.2706 - accuracy: 0.9067\n",
      "Epoch 80/100\n",
      "24/24 [==============================] - 0s 5ms/step - loss: 0.2694 - accuracy: 0.9067\n",
      "Epoch 81/100\n",
      "24/24 [==============================] - 0s 4ms/step - loss: 0.2682 - accuracy: 0.9080\n",
      "Epoch 82/100\n"
     ]
    },
    {
     "name": "stdout",
     "output_type": "stream",
     "text": [
      "24/24 [==============================] - 0s 4ms/step - loss: 0.2670 - accuracy: 0.9080\n",
      "Epoch 83/100\n",
      "24/24 [==============================] - 0s 4ms/step - loss: 0.2658 - accuracy: 0.9080\n",
      "Epoch 84/100\n",
      "24/24 [==============================] - 0s 5ms/step - loss: 0.2647 - accuracy: 0.9067\n",
      "Epoch 85/100\n",
      "24/24 [==============================] - 0s 5ms/step - loss: 0.2636 - accuracy: 0.9067\n",
      "Epoch 86/100\n",
      "24/24 [==============================] - 0s 4ms/step - loss: 0.2626 - accuracy: 0.9067\n",
      "Epoch 87/100\n",
      "24/24 [==============================] - 0s 4ms/step - loss: 0.2615 - accuracy: 0.9053\n",
      "Epoch 88/100\n",
      "24/24 [==============================] - 0s 4ms/step - loss: 0.2606 - accuracy: 0.9040\n",
      "Epoch 89/100\n",
      "24/24 [==============================] - 0s 5ms/step - loss: 0.2595 - accuracy: 0.9053\n",
      "Epoch 90/100\n",
      "24/24 [==============================] - 0s 5ms/step - loss: 0.2586 - accuracy: 0.9053\n",
      "Epoch 91/100\n",
      "24/24 [==============================] - 0s 4ms/step - loss: 0.2576 - accuracy: 0.9067\n",
      "Epoch 92/100\n",
      "24/24 [==============================] - 0s 4ms/step - loss: 0.2568 - accuracy: 0.9067\n",
      "Epoch 93/100\n",
      "24/24 [==============================] - 0s 4ms/step - loss: 0.2558 - accuracy: 0.9067\n",
      "Epoch 94/100\n",
      "24/24 [==============================] - 0s 4ms/step - loss: 0.2550 - accuracy: 0.9067\n",
      "Epoch 95/100\n",
      "24/24 [==============================] - 0s 4ms/step - loss: 0.2541 - accuracy: 0.9067\n",
      "Epoch 96/100\n",
      "24/24 [==============================] - 0s 4ms/step - loss: 0.2534 - accuracy: 0.9053\n",
      "Epoch 97/100\n",
      "24/24 [==============================] - 0s 4ms/step - loss: 0.2525 - accuracy: 0.9067\n",
      "Epoch 98/100\n",
      "24/24 [==============================] - 0s 4ms/step - loss: 0.2518 - accuracy: 0.9080\n",
      "Epoch 99/100\n",
      "24/24 [==============================] - 0s 4ms/step - loss: 0.2509 - accuracy: 0.9080\n",
      "Epoch 100/100\n",
      "24/24 [==============================] - 0s 4ms/step - loss: 0.2502 - accuracy: 0.9067\n"
     ]
    }
   ],
   "source": [
    "# Compile the Sequential model together and customize metrics\n",
    "new_model.compile(loss=\"binary_crossentropy\", optimizer=\"adam\", metrics=[\"accuracy\"])\n",
    "\n",
    "# Fit the model to the training data\n",
    "new_fit_model = new_model.fit(X_moon_train_scaled, y_moon_train, epochs=100, shuffle=True)"
   ]
  }
 ],
 "metadata": {
  "kernelspec": {
   "display_name": "mlenv",
   "language": "python",
   "name": "mlenv"
  },
  "language_info": {
   "codemirror_mode": {
    "name": "ipython",
    "version": 3
   },
   "file_extension": ".py",
   "mimetype": "text/x-python",
   "name": "python",
   "nbconvert_exporter": "python",
   "pygments_lexer": "ipython3",
   "version": "3.7.11"
  }
 },
 "nbformat": 4,
 "nbformat_minor": 5
}
